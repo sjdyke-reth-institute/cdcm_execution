{
 "cells": [
  {
   "cell_type": "code",
   "execution_count": null,
   "id": "97c38086",
   "metadata": {},
   "outputs": [],
   "source": [
    "import os\n",
    "import numpy as np\n",
    "import matplotlib.pyplot as plt\n",
    "\n",
    "from cdcm import *"
   ]
  },
  {
   "cell_type": "markdown",
   "id": "e8653c93",
   "metadata": {},
   "source": [
    "# Data System\n",
    "\n",
    "DataSystem class provides the functionality to read through a data sequence. We can access data from data system whenever required. A Data System object has following arguments:\n",
    "\n",
    "```data```: A data sequence<br>\n",
    "```columns```: A sequence containing the names of each column. This will be string or sequence of string.<br>\n",
    "```column_units```: SI unit if any of each column quantities. This will be string or sequence of string.<br>\n",
    "```column_description```: Description for each column. This will be string or sequence of string.<br>\n",
    "```column_track```: Track options for columns. This can be boolean or sequence of boolean values.<br>"
   ]
  },
  {
   "cell_type": "code",
   "execution_count": 6,
   "id": "a3545efe",
   "metadata": {
    "scrolled": true
   },
   "outputs": [
    {
     "name": "stdout",
     "output_type": "stream",
     "text": [
      "('omega',) ('meters',) ('Some random quantity.',) (True,)\n",
      "random_sys:\n",
      "  description: A data system made from a pre-sampled random stream.\n",
      "  owner: ''\n",
      "  nodes:\n",
      "    omega:\n",
      "      description: Some random quantity.\n",
      "      owner: random_sys\n",
      "      parents: ('read',)\n",
      "      children: ()\n",
      "      value: 1.154662114462068\n",
      "      units: meters\n",
      "      track: true\n",
      "    row:\n",
      "      description: The row of the data currently pointing to.\n",
      "      owner: random_sys\n",
      "      parents: ('incrow',)\n",
      "      children: ('incrow', 'read')\n",
      "      value: 0\n",
      "      units: ''\n",
      "      track: false\n",
      "    data_node:\n",
      "      description: A node storing the data.\n",
      "      owner: random_sys\n",
      "      parents: ()\n",
      "      children: ('read',)\n",
      "      value: \"[ 1.15466211  0.62907416  0.15856474  0.02429891  1.29113284  1.08550325\\n\\\n",
      "        \\ -0.31122806  0.36963519  0.39855308 -1.89054398]\"\n",
      "      units: ''\n",
      "      track: false\n",
      "    incrow:\n",
      "      description: Increases the row by one.\n",
      "      owner: random_sys\n",
      "      parents: ('row',)\n",
      "      children: ('row',)\n",
      "      func: !!python/name:cdcm.data_system.incrow ''\n",
      "    read:\n",
      "      description: Read the data of this row.\n",
      "      owner: random_sys\n",
      "      parents: ('row', 'data_node')\n",
      "      children: ('omega',)\n",
      "      func: !!python/name:cdcm.data_system.read ''\n",
      "\n"
     ]
    }
   ],
   "source": [
    "# Here are some random data\n",
    "y = np.random.randn(10)\n",
    "\n",
    "# And here is the system\n",
    "random_sys = DataSystem(\n",
    "    y,\n",
    "    name=\"random_sys\",\n",
    "    description=\"A data system made from a pre-sampled random stream.\",\n",
    "    columns=\"omega\",\n",
    "    column_units=\"meters\",\n",
    "    column_desciptions=\"Some random quantity.\"\n",
    ")\n",
    "\n",
    "print(random_sys)"
   ]
  },
  {
   "cell_type": "code",
   "execution_count": 7,
   "id": "544bb4d0",
   "metadata": {
    "scrolled": true
   },
   "outputs": [
    {
     "name": "stdout",
     "output_type": "stream",
     "text": [
      "omega = 1.15\n",
      "omega = 0.63\n",
      "omega = 0.16\n",
      "omega = 0.02\n",
      "omega = 1.29\n",
      "omega = 1.09\n",
      "omega = -0.31\n",
      "omega = 0.37\n",
      "omega = 0.40\n",
      "omega = -1.89\n"
     ]
    }
   ],
   "source": [
    "for i in range(10):\n",
    "    random_sys.forward()\n",
    "    print(f\"omega = {random_sys.omega.value:1.2f}\")\n",
    "    random_sys.transition()"
   ]
  },
  {
   "cell_type": "code",
   "execution_count": null,
   "id": "c831c527",
   "metadata": {},
   "outputs": [],
   "source": []
  }
 ],
 "metadata": {
  "kernelspec": {
   "display_name": "Python 3.9.10 64-bit",
   "language": "python",
   "name": "python3"
  },
  "language_info": {
   "codemirror_mode": {
    "name": "ipython",
    "version": 3
   },
   "file_extension": ".py",
   "mimetype": "text/x-python",
   "name": "python",
   "nbconvert_exporter": "python",
   "pygments_lexer": "ipython3",
   "version": "3.9.10"
  },
  "vscode": {
   "interpreter": {
    "hash": "c615ed6ac31fb87146eb0be2c4b3f487ef1b48449ea8c0482eba815cab7eec61"
   }
  }
 },
 "nbformat": 4,
 "nbformat_minor": 5
}
