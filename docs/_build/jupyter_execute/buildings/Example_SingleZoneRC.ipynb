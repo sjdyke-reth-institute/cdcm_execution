{
 "cells": [
  {
   "cell_type": "markdown",
   "id": "330f46ea",
   "metadata": {},
   "source": [
    "# Examples\n",
    "\n",
    "In this section, how CDCM can be used to model and simulate deterministic\n",
    "as well as non deterministic buldings are demonstrated. Initially examples\n",
    "would be shown for a single zone building. How each system of a building such\n",
    "as RC system, HVAC system, Occupancy system etc can be modeledwill also be\n",
    "demonstrated.\n",
    "\n",
    "Following are the list of examples included so far:\n",
    "- Single zone RC system"
   ]
  }
 ],
 "metadata": {
  "kernelspec": {
   "display_name": "Python 3.9.10 64-bit",
   "language": "python",
   "name": "python3"
  },
  "language_info": {
   "codemirror_mode": {
    "name": "ipython",
    "version": 3
   },
   "file_extension": ".py",
   "mimetype": "text/x-python",
   "name": "python",
   "nbconvert_exporter": "python",
   "pygments_lexer": "ipython3",
   "version": "3.9.10"
  },
  "vscode": {
   "interpreter": {
    "hash": "c615ed6ac31fb87146eb0be2c4b3f487ef1b48449ea8c0482eba815cab7eec61"
   }
  }
 },
 "nbformat": 4,
 "nbformat_minor": 5
}