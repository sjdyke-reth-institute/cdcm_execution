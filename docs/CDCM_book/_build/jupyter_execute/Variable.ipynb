{
 "cells": [
  {
   "cell_type": "code",
   "execution_count": 1,
   "id": "bcd8fd79",
   "metadata": {},
   "outputs": [],
   "source": [
    "import numpy as np\n",
    "\n",
    "from cdcm import *"
   ]
  },
  {
   "cell_type": "markdown",
   "id": "07874a0b",
   "metadata": {},
   "source": [
    "# Variable\n",
    "\n",
    "Variable class is formed by directly inheriting Node\n",
    "class. Hence it has all the properties of Node class.\n",
    "Variable denotes a quantity with known unit. It has a description which explains\n",
    "what it is. It has a name also. Other attributes of variable are as follow:\n",
    "- ```value```: This is the value of the variable. It can be a scalar or array\n",
    "  of integer or float datatype. String value is also possible.\n",
    "- ```units```: The SI unit of the quantity which variable denotes.\n",
    "- ```track```: A boolean value which indicates whether to track or not the\n",
    "  variable during simulation.\n",
    "\n",
    "<br>Variables with known unit and unchanging values are called as ```Parameters```."
   ]
  },
  {
   "cell_type": "markdown",
   "id": "f3d93980",
   "metadata": {},
   "source": [
    "### Creating a variable with floating point value"
   ]
  },
  {
   "cell_type": "code",
   "execution_count": 2,
   "id": "5197c996",
   "metadata": {},
   "outputs": [
    {
     "name": "stdout",
     "output_type": "stream",
     "text": [
      "q1:\n",
      "  description: mass of quantity 1\n",
      "  owner: ''\n",
      "  parents: ()\n",
      "  children: ()\n",
      "  value: 53.5768\n",
      "  units: m\n",
      "  track: true\n",
      "\n"
     ]
    }
   ],
   "source": [
    "q1 = Variable(\n",
    "    value=53.5768,\n",
    "    units=\"m\",\n",
    "    name=\"q1\",\n",
    "    track=True,\n",
    "    description=\"mass of quantity 1\")\n",
    "print(q1)"
   ]
  },
  {
   "cell_type": "markdown",
   "id": "d2fd8300",
   "metadata": {},
   "source": [
    "### Creating a variable with integer value"
   ]
  },
  {
   "cell_type": "code",
   "execution_count": 3,
   "id": "91639ee0",
   "metadata": {},
   "outputs": [
    {
     "name": "stdout",
     "output_type": "stream",
     "text": [
      "q2:\n",
      "  description: rounded off distance\n",
      "  owner: ''\n",
      "  parents: ()\n",
      "  children: ()\n",
      "  value: 10\n",
      "  units: km\n",
      "  track: false\n",
      "\n"
     ]
    }
   ],
   "source": [
    "q2 = Variable(\n",
    "    value=10,\n",
    "    units=\"km\",\n",
    "    name=\"q2\",\n",
    "    track=False,\n",
    "    description=\"rounded off distance\"\n",
    ")\n",
    "print(q2)"
   ]
  },
  {
   "cell_type": "markdown",
   "id": "a5f7d624",
   "metadata": {},
   "source": [
    "### Creating a variable with an array of values"
   ]
  },
  {
   "cell_type": "code",
   "execution_count": 4,
   "id": "5af7af43",
   "metadata": {},
   "outputs": [
    {
     "name": "stdout",
     "output_type": "stream",
     "text": [
      "q3:\n",
      "  description: description\n",
      "  owner: ''\n",
      "  parents: ()\n",
      "  children: ()\n",
      "  value: '[1.34   2.7923 5.11  ]'\n",
      "  units: m\n",
      "  track: false\n",
      "\n"
     ]
    }
   ],
   "source": [
    "arr_float = np.array([1.34, 2.7923, 5.11])\n",
    "q3 = Variable(\n",
    "    value=arr_float,\n",
    "    units=\"m\",\n",
    "    name=\"q3\",\n",
    "    track=False,\n",
    "    description=\"description\"\n",
    ")\n",
    "print(q3)"
   ]
  },
  {
   "cell_type": "markdown",
   "id": "1b816c1d",
   "metadata": {},
   "source": [
    "### Another way of creating a variable\n",
    "Syntax is **make_node**(\"V:name:value:unit\")"
   ]
  },
  {
   "cell_type": "code",
   "execution_count": 5,
   "id": "e4b67b78",
   "metadata": {},
   "outputs": [
    {
     "name": "stdout",
     "output_type": "stream",
     "text": [
      "q4:\n",
      "  description: ''\n",
      "  owner: ''\n",
      "  parents: ()\n",
      "  children: ()\n",
      "  value: 0.539\n",
      "  units: kg\n",
      "  track: true\n",
      "\n"
     ]
    }
   ],
   "source": [
    "q4 = make_node(\"V:q4:0.539:kg\")\n",
    "print(q4)"
   ]
  }
 ],
 "metadata": {
  "kernelspec": {
   "display_name": "Python 3 (ipykernel)",
   "language": "python",
   "name": "python3"
  },
  "language_info": {
   "codemirror_mode": {
    "name": "ipython",
    "version": 3
   },
   "file_extension": ".py",
   "mimetype": "text/x-python",
   "name": "python",
   "nbconvert_exporter": "python",
   "pygments_lexer": "ipython3",
   "version": "3.8.12"
  }
 },
 "nbformat": 4,
 "nbformat_minor": 5
}