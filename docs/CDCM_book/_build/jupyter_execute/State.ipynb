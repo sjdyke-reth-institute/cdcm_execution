{
 "cells": [
  {
   "cell_type": "code",
   "execution_count": 1,
   "id": "19be0b21",
   "metadata": {},
   "outputs": [],
   "source": [
    "from cdcm import *"
   ]
  },
  {
   "cell_type": "markdown",
   "id": "754a7137",
   "metadata": {},
   "source": [
    "# State\n",
    "\n",
    "State is a ```Variable``` whose value changes with time. Change in discrete\n",
    "time step is considered here. Two versions of value are stored for a State.\n",
    "The value of state at current time step is ```State.value``` and the value\n",
    "at next time step is ```State.next_value```."
   ]
  },
  {
   "cell_type": "markdown",
   "id": "b89290ad",
   "metadata": {},
   "source": [
    "### Creating a state"
   ]
  },
  {
   "cell_type": "code",
   "execution_count": 2,
   "id": "d6ac6e3e",
   "metadata": {},
   "outputs": [
    {
     "name": "stdout",
     "output_type": "stream",
     "text": [
      "unamed_node:\n",
      "  description: A standard state.\n",
      "  owner: ''\n",
      "  parents: ()\n",
      "  children: ()\n",
      "  value: 0.5\n",
      "  units: m\n",
      "  track: true\n",
      "\n"
     ]
    }
   ],
   "source": [
    "s = State(\n",
    "    value=0.5,\n",
    "    units=\"m\",\n",
    "    track=True,\n",
    "    description=\"A standard state.\"\n",
    ")\n",
    "print(s)"
   ]
  },
  {
   "cell_type": "code",
   "execution_count": 3,
   "id": "27917713",
   "metadata": {},
   "outputs": [
    {
     "name": "stdout",
     "output_type": "stream",
     "text": [
      "The present value of the state is: 0.5\n"
     ]
    }
   ],
   "source": [
    "print(f\"The present value of the state is: {s._value}\")"
   ]
  },
  {
   "cell_type": "code",
   "execution_count": 4,
   "id": "16fbc96b",
   "metadata": {},
   "outputs": [
    {
     "name": "stdout",
     "output_type": "stream",
     "text": [
      "The next value of the state is: 0.5\n"
     ]
    }
   ],
   "source": [
    "print(f\"The next value of the state is: {s._next_value}\")"
   ]
  },
  {
   "cell_type": "code",
   "execution_count": 5,
   "id": "3ec61632",
   "metadata": {},
   "outputs": [
    {
     "name": "stdout",
     "output_type": "stream",
     "text": [
      "Changing the next value.\n",
      "The next value of the state is: 1.5\n"
     ]
    }
   ],
   "source": [
    "s._next_value = 1.5\n",
    "print(\"Changing the next value.\")\n",
    "print(f\"The next value of the state is: {s._next_value}\")"
   ]
  },
  {
   "cell_type": "code",
   "execution_count": 6,
   "id": "29b073f8",
   "metadata": {},
   "outputs": [
    {
     "name": "stdout",
     "output_type": "stream",
     "text": [
      "Swaping values.\n",
      "unamed_node:\n",
      "  description: A standard state.\n",
      "  owner: ''\n",
      "  parents: ()\n",
      "  children: ()\n",
      "  value: 1.5\n",
      "  units: m\n",
      "  track: true\n",
      "\n"
     ]
    }
   ],
   "source": [
    "print(\"Swaping values.\")\n",
    "s.transition()\n",
    "print(s)"
   ]
  },
  {
   "cell_type": "markdown",
   "id": "bb994bbc",
   "metadata": {},
   "source": [
    "*transition* is a function which swaps the values of State.value and State.next_value. More on transition function will be discussed later."
   ]
  },
  {
   "cell_type": "markdown",
   "id": "0837e3f5",
   "metadata": {},
   "source": [
    "### Another way of creating a State\n",
    "Syntax: **make_node**(\"S:name:value:unit\")"
   ]
  },
  {
   "cell_type": "code",
   "execution_count": 7,
   "id": "0a11dbac",
   "metadata": {},
   "outputs": [
    {
     "name": "stdout",
     "output_type": "stream",
     "text": [
      "x:\n",
      "  description: ''\n",
      "  owner: ''\n",
      "  parents: ()\n",
      "  children: ()\n",
      "  value: 1\n",
      "  units: m\n",
      "  track: true\n",
      "\n"
     ]
    }
   ],
   "source": [
    "x = make_node(\"S:x:1:m\")\n",
    "print(x)"
   ]
  }
 ],
 "metadata": {
  "kernelspec": {
   "display_name": "Python 3 (ipykernel)",
   "language": "python",
   "name": "python3"
  },
  "language_info": {
   "codemirror_mode": {
    "name": "ipython",
    "version": 3
   },
   "file_extension": ".py",
   "mimetype": "text/x-python",
   "name": "python",
   "nbconvert_exporter": "python",
   "pygments_lexer": "ipython3",
   "version": "3.8.12"
  }
 },
 "nbformat": 4,
 "nbformat_minor": 5
}