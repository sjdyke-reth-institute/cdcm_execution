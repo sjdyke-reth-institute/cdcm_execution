{
 "cells": [
  {
   "cell_type": "markdown",
   "id": "7b476d6d",
   "metadata": {},
   "source": [
    "# State\n",
    "\n",
    "State is a ```Variable``` whose value changes with time. Change in discrete\n",
    "time step is considered here. Two versions of value are stored for a State. The\n",
    "current value which is ```State.value``` and the next value ```State.next_value```."
   ]
  },
  {
   "cell_type": "markdown",
   "id": "51c2a43c",
   "metadata": {},
   "source": [
    "### creating a state"
   ]
  },
  {
   "cell_type": "code",
   "execution_count": null,
   "id": "3778bda2",
   "metadata": {},
   "outputs": [],
   "source": [
    "s = State(\n",
    "    value=0.5,\n",
    "    units=\"m\",\n",
    "    track=True,\n",
    "    description=\"A standard state.\"\n",
    ")\n",
    "print(s)"
   ]
  },
  {
   "cell_type": "code",
   "execution_count": null,
   "id": "a5aa4534",
   "metadata": {},
   "outputs": [],
   "source": [
    "print(f\"The present value of the state is: {s._value}\")"
   ]
  },
  {
   "cell_type": "code",
   "execution_count": null,
   "id": "bb35d21e",
   "metadata": {},
   "outputs": [],
   "source": [
    "print(f\"The next value of the state is: {s._next_value}\")"
   ]
  },
  {
   "cell_type": "code",
   "execution_count": null,
   "id": "45ec6cff",
   "metadata": {},
   "outputs": [],
   "source": [
    "s._next_value = 1.5\n",
    "print(\"Changing the next value.\")\n",
    "print(f\"The next value of the state is: {s._next_value}\")"
   ]
  },
  {
   "cell_type": "code",
   "execution_count": null,
   "id": "bde0e445",
   "metadata": {},
   "outputs": [],
   "source": [
    "print(\"Swaping values.\")\n",
    "s.transition()\n",
    "print(s)"
   ]
  },
  {
   "cell_type": "markdown",
   "id": "71e1ae7e",
   "metadata": {},
   "source": [
    "*transition* is a function which swaps the values of State.value and State.next_value. More on transition function will be discussed later."
   ]
  }
 ],
 "metadata": {
  "kernelspec": {
   "display_name": "Python 3 (ipykernel)",
   "language": "python",
   "name": "python3"
  },
  "language_info": {
   "codemirror_mode": {
    "name": "ipython",
    "version": 3
   },
   "file_extension": ".py",
   "mimetype": "text/x-python",
   "name": "python",
   "nbconvert_exporter": "python",
   "pygments_lexer": "ipython3",
   "version": "3.8.12"
  }
 },
 "nbformat": 4,
 "nbformat_minor": 5
}
