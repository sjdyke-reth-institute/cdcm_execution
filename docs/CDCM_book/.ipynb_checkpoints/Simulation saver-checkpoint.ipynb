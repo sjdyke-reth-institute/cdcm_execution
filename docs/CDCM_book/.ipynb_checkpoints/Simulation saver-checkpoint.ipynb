{
 "cells": [
  {
   "cell_type": "code",
   "execution_count": 1,
   "id": "19a286dc",
   "metadata": {},
   "outputs": [],
   "source": [
    "import os\n",
    "import numpy as np\n",
    "\n",
    "from cdcm import *"
   ]
  },
  {
   "cell_type": "markdown",
   "id": "b42debc8",
   "metadata": {},
   "source": [
    "# SimulationSaver\n",
    "\n",
    "SimulationSaver class provides the functionality to save simulated results in \n",
    "HDF5 files. We can either provide the ```h5``` file name or the group of an h5\n",
    "file where results should be saved. An HDF5 file will be created and results\n",
    "will be saved if we give the name of the file which should be created instead of group."
   ]
  },
  {
   "cell_type": "code",
   "execution_count": 2,
   "id": "72c698f0",
   "metadata": {
    "scrolled": true
   },
   "outputs": [
    {
     "name": "stdout",
     "output_type": "stream",
     "text": [
      "sys:\n",
      "  description: ''\n",
      "  owner: ''\n",
      "  nodes:\n",
      "    x:\n",
      "      description: The state of the system.\n",
      "      owner: sys\n",
      "      parents: ('f',)\n",
      "      children: ('f', 'g')\n",
      "      value: 0.1\n",
      "      units: meters\n",
      "      track: true\n",
      "    r:\n",
      "      description: The rate of change.\n",
      "      owner: sys\n",
      "      parents: ()\n",
      "      children: ('f',)\n",
      "      value: 1.2\n",
      "      units: meters/second\n",
      "      track: true\n",
      "    dt:\n",
      "      description: The timestep.\n",
      "      owner: sys\n",
      "      parents: ()\n",
      "      children: ('f',)\n",
      "      value: 0.1\n",
      "      units: second\n",
      "      track: true\n",
      "    sigma:\n",
      "      description: The standard deviation of measurement noise.\n",
      "      owner: sys\n",
      "      parents: ()\n",
      "      children: ('g',)\n",
      "      value: 0.01\n",
      "      units: meters\n",
      "      track: true\n",
      "    y:\n",
      "      description: A sensor measurement.\n",
      "      owner: sys\n",
      "      parents: ('g',)\n",
      "      children: ()\n",
      "      value: 0.5\n",
      "      units: meters\n",
      "      track: true\n",
      "    f:\n",
      "      description: The transition function.\n",
      "      owner: sys\n",
      "      parents: ('x', 'r', 'dt')\n",
      "      children: ('x',)\n",
      "      func: !!python/name:__main__.f ''\n",
      "    g:\n",
      "      description: ''\n",
      "      owner: sys\n",
      "      parents: ('x', 'sigma')\n",
      "      children: ('y',)\n",
      "      func: !!python/name:__main__.g ''\n",
      "\n"
     ]
    }
   ],
   "source": [
    "# Let's create a system\n",
    "\n",
    "with System(name=\"sys\") as sys:\n",
    "    x = make_node(\"S:x:0.1:meters\", description=\"The state of the system.\")\n",
    "    r = make_node(\"P:r:1.2:meters/second\", description=\"The rate of change.\")\n",
    "    dt = make_node(\"P:dt:0.1:second\", description=\"The timestep.\")\n",
    "    sigma = make_node(\"P:sigma:0.01:meters\",\n",
    "        description=\"The standard deviation of measurement noise.\")\n",
    "    y = make_node(\"V:y\", value=0.5, units=\"meters\", description=\"A sensor measurement.\")\n",
    "\n",
    "    @make_function(x)\n",
    "    def f(x=x, r=r, dt=dt):\n",
    "        \"\"\"The transition function.\"\"\"\n",
    "        return x + r * dt\n",
    "\n",
    "    @make_function(y)\n",
    "    def g(x=x, sigma=sigma):\n",
    "        return x + sigma * np.random.randn()\n",
    "\n",
    "print(sys)"
   ]
  },
  {
   "cell_type": "markdown",
   "id": "4589d58c",
   "metadata": {},
   "source": [
    "### Saving the results\n",
    "We now create a CDCM SimulationSaver object called ```saver``` which will save the simulation results when simulation is run to the file with name ```test.h5```. We run the simulation by calling the forward() and tranistion() functions of the ```sys``` inside a for loop till the maximum step is reached.\n",
    "\n",
    "The Simulation saver assumes that the file with given file name does not exist when a file name is passed as argument. Due to this reason, the file is removed before creating Simulation saver object if it exists already."
   ]
  },
  {
   "cell_type": "code",
   "execution_count": 3,
   "id": "bec9d4c0",
   "metadata": {},
   "outputs": [],
   "source": [
    "max_steps = 1000\n",
    "if os.path.exists(\"test.h5\"):\n",
    "        os.remove(\"test.h5\")\n",
    "saver = SimulationSaver(\"test.h5\", sys, max_steps=max_steps)"
   ]
  },
  {
   "cell_type": "code",
   "execution_count": 4,
   "id": "ca85f8a9",
   "metadata": {},
   "outputs": [
    {
     "name": "stdout",
     "output_type": "stream",
     "text": [
      "x: 0.100 0.101\n"
     ]
    }
   ],
   "source": [
    "for i in range(max_steps):\n",
    "    sys.forward()\n",
    "    saver.save()\n",
    "    if i % 100 == 0:\n",
    "        print(f\"x: {sys.x.value:1.3f} {sys.y.value:1.3f}\")\n",
    "    sys.transition()"
   ]
  },
  {
   "cell_type": "markdown",
   "id": "85a8e5b6",
   "metadata": {},
   "source": [
    "### fetching the results"
   ]
  },
  {
   "cell_type": "code",
   "execution_count": 5,
   "id": "020012f7",
   "metadata": {},
   "outputs": [],
   "source": [
    "# Here is how you can get all the data saved so far\n",
    "xs = saver.file_handler[\"/sys/x\"][:]\n",
    "ys = saver.file_handler[\"/sys/y\"][:]"
   ]
  },
  {
   "cell_type": "code",
   "execution_count": null,
   "id": "8cc78fd8",
   "metadata": {},
   "outputs": [],
   "source": []
  }
 ],
 "metadata": {
  "kernelspec": {
   "display_name": "Python 3 (ipykernel)",
   "language": "python",
   "name": "python3"
  },
  "language_info": {
   "codemirror_mode": {
    "name": "ipython",
    "version": 3
   },
   "file_extension": ".py",
   "mimetype": "text/x-python",
   "name": "python",
   "nbconvert_exporter": "python",
   "pygments_lexer": "ipython3",
   "version": "3.8.12"
  }
 },
 "nbformat": 4,
 "nbformat_minor": 5
}
