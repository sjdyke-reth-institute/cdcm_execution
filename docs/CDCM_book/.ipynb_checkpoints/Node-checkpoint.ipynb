{
 "cells": [
  {
   "cell_type": "markdown",
   "id": "c62757dd",
   "metadata": {},
   "source": [
    "# Node"
   ]
  },
  {
   "cell_type": "markdown",
   "id": "a3ed9d53",
   "metadata": {},
   "source": [
    "Node is the fundamental buidling block of the graph which represents a system\n",
    "in CDCM. All the components of the system will be represented as a Node object\n",
    "or object which inherits the Node. Node has attributes: <br>\n",
    "``` name```: The name of the object.<br>\n",
    "```description```: The description of the object.<br>\n",
    "```parents```: The parents of the node. These are the nodes which affect the node.<br>\n",
    "```children```: The children of the node. These are the nodes affected by the node.<br>\n",
    "```owner```: The owner of the node. This can be the system of which the node is part of.<br>\n",
    "Following are some of the useful functionalities provided by the Node class:"
   ]
  },
  {
   "cell_type": "markdown",
   "id": "53bccb80",
   "metadata": {},
   "source": [
    "### Creating a Node"
   ]
  },
  {
   "cell_type": "code",
   "execution_count": 1,
   "id": "523769bb",
   "metadata": {
    "scrolled": true
   },
   "outputs": [
    {
     "ename": "NameError",
     "evalue": "name 'Node' is not defined",
     "output_type": "error",
     "traceback": [
      "\u001b[0;31m---------------------------------------------------------------------------\u001b[0m",
      "\u001b[0;31mNameError\u001b[0m                                 Traceback (most recent call last)",
      "Input \u001b[0;32mIn [1]\u001b[0m, in \u001b[0;36m<cell line: 2>\u001b[0;34m()\u001b[0m\n\u001b[1;32m      1\u001b[0m \u001b[38;5;66;03m# A node n1 is created\u001b[39;00m\n\u001b[0;32m----> 2\u001b[0m n1 \u001b[38;5;241m=\u001b[39m \u001b[43mNode\u001b[49m(name\u001b[38;5;241m=\u001b[39m\u001b[38;5;124m\"\u001b[39m\u001b[38;5;124mn1\u001b[39m\u001b[38;5;124m\"\u001b[39m)\n\u001b[1;32m      3\u001b[0m \u001b[38;5;66;03m# A node n2 is created\u001b[39;00m\n\u001b[1;32m      4\u001b[0m n2 \u001b[38;5;241m=\u001b[39m Node(name\u001b[38;5;241m=\u001b[39m\u001b[38;5;124m\"\u001b[39m\u001b[38;5;124mn2\u001b[39m\u001b[38;5;124m\"\u001b[39m)\n",
      "\u001b[0;31mNameError\u001b[0m: name 'Node' is not defined"
     ]
    }
   ],
   "source": [
    "# A node n1 is created\n",
    "n1 = Node(name=\"n1\")\n",
    "# A node n2 is created\n",
    "n2 = Node(name=\"n2\")\n",
    "print(n1)\n",
    "print(n2)\n",
    "\n",
    "# Let us create more nodes\n",
    "n3 = Node(name=\"n3\")\n",
    "n4 = Node(name=\"n4\")\n",
    "n5 = Node(name=\"n5\")\n",
    "n6 = Node(name=\"n6\")\n",
    "n7 = Node(name=\"n7\")"
   ]
  },
  {
   "cell_type": "markdown",
   "id": "fcf5710e",
   "metadata": {},
   "source": [
    "### Adding a node as a child of another node"
   ]
  },
  {
   "cell_type": "code",
   "execution_count": null,
   "id": "f08eec0f",
   "metadata": {},
   "outputs": [],
   "source": [
    "# n2 is added as a child of n1. This action implies n2 depends on n1.\n",
    "n1.add_child(n2)\n",
    "print(n1)\n",
    "print(n2)"
   ]
  },
  {
   "cell_type": "markdown",
   "id": "3af193ad",
   "metadata": {},
   "source": [
    "### Adding a node as a parent of another node"
   ]
  },
  {
   "cell_type": "code",
   "execution_count": null,
   "id": "ca24c6de",
   "metadata": {},
   "outputs": [],
   "source": [
    "n3.add_parent(n1)\n",
    "n3.add_parent(n4)\n",
    "print(n1)\n",
    "print(n2)\n",
    "print(n3)\n",
    "print(n4)"
   ]
  },
  {
   "cell_type": "markdown",
   "id": "d29a257c",
   "metadata": {},
   "source": [
    "### Adding multiple nodes as children of another node"
   ]
  },
  {
   "cell_type": "code",
   "execution_count": null,
   "id": "2df30cff",
   "metadata": {},
   "outputs": [],
   "source": [
    "# First, adding just one\n",
    "n4.add_children(n5)\n",
    "print(n4)"
   ]
  },
  {
   "cell_type": "code",
   "execution_count": null,
   "id": "a4a13a61",
   "metadata": {},
   "outputs": [],
   "source": [
    "# Add from a sequence\n",
    "n4.add_children([n6, n7])\n",
    "print(n4)"
   ]
  },
  {
   "cell_type": "markdown",
   "id": "2d2bb7af",
   "metadata": {},
   "source": [
    "### Adding multiple nodes as parents of another node"
   ]
  },
  {
   "cell_type": "code",
   "execution_count": null,
   "id": "0d4e8537",
   "metadata": {},
   "outputs": [],
   "source": [
    "n6.add_parents([n7, n8])\n",
    "print(n6)"
   ]
  },
  {
   "cell_type": "markdown",
   "id": "f9f71446",
   "metadata": {},
   "source": [
    "### Removing a parent from a child node (equivalently removing child node from the parent node)"
   ]
  },
  {
   "cell_type": "code",
   "execution_count": null,
   "id": "9e69f84b",
   "metadata": {},
   "outputs": [],
   "source": [
    "print(\"Before removing parent n1 from n3:\")\n",
    "print(n1)\n",
    "print(\"After removing parent n1 from n3:\")\n",
    "n1.remove_child(n3) # same as n3.remove_parent(n1)\n",
    "print(n1)\n",
    "print(n3)"
   ]
  },
  {
   "cell_type": "code",
   "execution_count": null,
   "id": "78dd168b",
   "metadata": {},
   "outputs": [],
   "source": [
    "n3.remove_parent(n4)\n",
    "n6.remove_parent(n4)\n",
    "print(n3)\n",
    "print(n4)"
   ]
  }
 ],
 "metadata": {
  "kernelspec": {
   "display_name": "Python 3 (ipykernel)",
   "language": "python",
   "name": "python3"
  },
  "language_info": {
   "codemirror_mode": {
    "name": "ipython",
    "version": 3
   },
   "file_extension": ".py",
   "mimetype": "text/x-python",
   "name": "python",
   "nbconvert_exporter": "python",
   "pygments_lexer": "ipython3",
   "version": "3.8.12"
  }
 },
 "nbformat": 4,
 "nbformat_minor": 5
}
