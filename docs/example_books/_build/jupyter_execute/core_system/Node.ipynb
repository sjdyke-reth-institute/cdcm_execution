{
 "cells": [
  {
   "cell_type": "code",
   "execution_count": 18,
   "id": "305b9bf9",
   "metadata": {},
   "outputs": [],
   "source": [
    "from cdcm import Node"
   ]
  },
  {
   "cell_type": "markdown",
   "id": "c62757dd",
   "metadata": {},
   "source": [
    "# Node"
   ]
  },
  {
   "cell_type": "markdown",
   "id": "a3ed9d53",
   "metadata": {},
   "source": [
    "Node is the fundamental buidling block of the graph which represents a system\n",
    "in CDCM. All the components of the system will be represented as a Node object\n",
    "or object which inherits the Node. Node has attributes: <br>\n",
    "``` name```: The name of the object.<br>\n",
    "```description```: The description of the object.<br>\n",
    "```parents```: The parents of the node. These are the nodes which affect the node.<br>\n",
    "```children```: The children of the node. These are the nodes affected by the node.<br>\n",
    "```owner```: The owner of the node. This can be the system of which the node is part of.<br>\n",
    "Following are some of the useful functionalities provided by the Node class:"
   ]
  },
  {
   "cell_type": "markdown",
   "id": "53bccb80",
   "metadata": {},
   "source": [
    "### Creating a Node"
   ]
  },
  {
   "cell_type": "code",
   "execution_count": 19,
   "id": "523769bb",
   "metadata": {
    "scrolled": true
   },
   "outputs": [
    {
     "name": "stdout",
     "output_type": "stream",
     "text": [
      "n1:\n",
      "  description: ''\n",
      "  owner: ''\n",
      "  parents: ()\n",
      "  children: ()\n",
      "\n",
      "n2:\n",
      "  description: ''\n",
      "  owner: ''\n",
      "  parents: ()\n",
      "  children: ()\n",
      "\n"
     ]
    }
   ],
   "source": [
    "# A node n1 is created\n",
    "n1 = Node(name=\"n1\")\n",
    "# A node n2 is created\n",
    "n2 = Node(name=\"n2\")\n",
    "print(n1)\n",
    "print(n2)\n",
    "\n",
    "# Let us create more nodes\n",
    "n3 = Node(name=\"n3\")\n",
    "n4 = Node(name=\"n4\")\n",
    "n5 = Node(name=\"n5\")\n",
    "n6 = Node(name=\"n6\")\n",
    "n7 = Node(name=\"n7\")\n",
    "n8 = Node(name=\"n8\")"
   ]
  },
  {
   "cell_type": "markdown",
   "id": "fcf5710e",
   "metadata": {},
   "source": [
    "### Adding a node as a child of another node"
   ]
  },
  {
   "cell_type": "code",
   "execution_count": 20,
   "id": "f08eec0f",
   "metadata": {},
   "outputs": [
    {
     "name": "stdout",
     "output_type": "stream",
     "text": [
      "n1:\n",
      "  description: ''\n",
      "  owner: ''\n",
      "  parents: ()\n",
      "  children: ('n2',)\n",
      "\n",
      "n2:\n",
      "  description: ''\n",
      "  owner: ''\n",
      "  parents: ('n1',)\n",
      "  children: ()\n",
      "\n"
     ]
    }
   ],
   "source": [
    "# n2 is added as a child of n1. This action implies n2 depends on n1.\n",
    "n1.add_child(n2)\n",
    "print(n1)\n",
    "print(n2)"
   ]
  },
  {
   "cell_type": "markdown",
   "id": "3af193ad",
   "metadata": {},
   "source": [
    "### Adding a node as a parent of another node"
   ]
  },
  {
   "cell_type": "code",
   "execution_count": 21,
   "id": "ca24c6de",
   "metadata": {},
   "outputs": [
    {
     "name": "stdout",
     "output_type": "stream",
     "text": [
      "n1:\n",
      "  description: ''\n",
      "  owner: ''\n",
      "  parents: ()\n",
      "  children: ('n2', 'n3')\n",
      "\n",
      "n2:\n",
      "  description: ''\n",
      "  owner: ''\n",
      "  parents: ('n1',)\n",
      "  children: ()\n",
      "\n",
      "n3:\n",
      "  description: ''\n",
      "  owner: ''\n",
      "  parents: ('n1', 'n4')\n",
      "  children: ()\n",
      "\n",
      "n4:\n",
      "  description: ''\n",
      "  owner: ''\n",
      "  parents: ()\n",
      "  children: ('n3',)\n",
      "\n"
     ]
    }
   ],
   "source": [
    "n3.add_parent(n1)\n",
    "n3.add_parent(n4)\n",
    "print(n1)\n",
    "print(n2)\n",
    "print(n3)\n",
    "print(n4)"
   ]
  },
  {
   "cell_type": "markdown",
   "id": "d29a257c",
   "metadata": {},
   "source": [
    "### Adding multiple nodes as children of another node"
   ]
  },
  {
   "cell_type": "code",
   "execution_count": 22,
   "id": "2df30cff",
   "metadata": {},
   "outputs": [
    {
     "name": "stdout",
     "output_type": "stream",
     "text": [
      "n4:\n",
      "  description: ''\n",
      "  owner: ''\n",
      "  parents: ()\n",
      "  children: ('n3', 'n5')\n",
      "\n"
     ]
    }
   ],
   "source": [
    "# First, adding just one\n",
    "n4.add_children(n5)\n",
    "print(n4)"
   ]
  },
  {
   "cell_type": "code",
   "execution_count": 23,
   "id": "a4a13a61",
   "metadata": {},
   "outputs": [
    {
     "name": "stdout",
     "output_type": "stream",
     "text": [
      "n4:\n",
      "  description: ''\n",
      "  owner: ''\n",
      "  parents: ()\n",
      "  children: ('n3', 'n5', 'n6', 'n7')\n",
      "\n"
     ]
    }
   ],
   "source": [
    "# Add from a sequence\n",
    "n4.add_children([n6, n7])\n",
    "print(n4)"
   ]
  },
  {
   "cell_type": "markdown",
   "id": "2d2bb7af",
   "metadata": {},
   "source": [
    "### Adding multiple nodes as parents of another node"
   ]
  },
  {
   "cell_type": "code",
   "execution_count": 24,
   "id": "0d4e8537",
   "metadata": {},
   "outputs": [
    {
     "name": "stdout",
     "output_type": "stream",
     "text": [
      "n6:\n",
      "  description: ''\n",
      "  owner: ''\n",
      "  parents: ('n4', 'n7', 'n8')\n",
      "  children: ()\n",
      "\n"
     ]
    }
   ],
   "source": [
    "n6.add_parents([n7, n8])\n",
    "print(n6)"
   ]
  },
  {
   "cell_type": "markdown",
   "id": "f9f71446",
   "metadata": {},
   "source": [
    "### Removing a parent from a child node (equivalently removing child node from the parent node)"
   ]
  },
  {
   "cell_type": "code",
   "execution_count": 25,
   "id": "9e69f84b",
   "metadata": {},
   "outputs": [
    {
     "name": "stdout",
     "output_type": "stream",
     "text": [
      "Before removing parent n1 from n3:\n",
      "n1:\n",
      "  description: ''\n",
      "  owner: ''\n",
      "  parents: ()\n",
      "  children: ('n2', 'n3')\n",
      "\n",
      "n3:\n",
      "  description: ''\n",
      "  owner: ''\n",
      "  parents: ('n1', 'n4')\n",
      "  children: ()\n",
      "\n",
      "After removing parent n1 from n3:\n",
      "n1:\n",
      "  description: ''\n",
      "  owner: ''\n",
      "  parents: ()\n",
      "  children: ('n2',)\n",
      "\n",
      "n3:\n",
      "  description: ''\n",
      "  owner: ''\n",
      "  parents: ('n4',)\n",
      "  children: ()\n",
      "\n"
     ]
    }
   ],
   "source": [
    "print(\"Before removing parent n1 from n3:\")\n",
    "print(n1)\n",
    "print(n3)\n",
    "print(\"After removing parent n1 from n3:\")\n",
    "n1.remove_child(n3) # same as n3.remove_parent(n1)\n",
    "print(n1)\n",
    "print(n3)"
   ]
  },
  {
   "cell_type": "code",
   "execution_count": 26,
   "id": "78dd168b",
   "metadata": {},
   "outputs": [
    {
     "name": "stdout",
     "output_type": "stream",
     "text": [
      "n3:\n",
      "  description: ''\n",
      "  owner: ''\n",
      "  parents: ()\n",
      "  children: ()\n",
      "\n",
      "n4:\n",
      "  description: ''\n",
      "  owner: ''\n",
      "  parents: ()\n",
      "  children: ('n5', 'n7')\n",
      "\n"
     ]
    }
   ],
   "source": [
    "n3.remove_parent(n4)\n",
    "n6.remove_parent(n4)\n",
    "print(n3)\n",
    "print(n4)"
   ]
  }
 ],
 "metadata": {
  "kernelspec": {
   "display_name": "Python 3 (ipykernel)",
   "language": "python",
   "name": "python3"
  },
  "language_info": {
   "codemirror_mode": {
    "name": "ipython",
    "version": 3
   },
   "file_extension": ".py",
   "mimetype": "text/x-python",
   "name": "python",
   "nbconvert_exporter": "python",
   "pygments_lexer": "ipython3",
   "version": "3.8.12"
  }
 },
 "nbformat": 4,
 "nbformat_minor": 5
}