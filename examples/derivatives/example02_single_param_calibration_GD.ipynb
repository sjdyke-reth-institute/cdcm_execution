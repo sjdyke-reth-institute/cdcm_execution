{
 "cells": [
  {
   "cell_type": "code",
   "execution_count": 1,
   "id": "c5fe1b27-6065-4c01-a42e-1c192b882c39",
   "metadata": {},
   "outputs": [],
   "source": [
    "import os\n",
    "\n",
    "import numpy as np\n",
    "import jax.numpy as jnp\n",
    "import matplotlib.pyplot as plt\n",
    "import networkx as nx\n",
    "from scipy.optimize import minimize\n",
    "\n",
    "from cdcm import *\n",
    "from cdcm_utils.derivatives import set_derivative\n",
    "from figures import *"
   ]
  },
  {
   "cell_type": "code",
   "execution_count": 2,
   "id": "2766656a-5fe3-487f-89cd-55e5e3f69a1c",
   "metadata": {},
   "outputs": [],
   "source": [
    "dt = 1.\n",
    "class SomeSystem(System):\n",
    "\n",
    "    def __init__(self, name, **kwargs):\n",
    "        super().__init__(name=name, **kwargs)\n",
    "\n",
    "    def define_internal_nodes(self, dt, **kwargs):\n",
    "                       \n",
    "        theta = Parameter(\n",
    "            value=1.,\n",
    "            name='theta',\n",
    "            units=None,\n",
    "        )\n",
    "        alpha = Parameter(\n",
    "            value=0.001,\n",
    "            name='alpha',\n",
    "            units=None,\n",
    "        )\n",
    "        y_cap = Variable(\n",
    "            value=0.,\n",
    "            name='y_cap',\n",
    "            units=None\n",
    "        )\n",
    "        y = Parameter(\n",
    "            value=0.,\n",
    "            name='y',\n",
    "            units=None\n",
    "        )\n",
    "        x = State(\n",
    "            value=0.,\n",
    "            name='x',\n",
    "            units=None\n",
    "        )\n",
    "        loss = Variable(\n",
    "            value=10.,\n",
    "            name='loss',\n",
    "            units=None,\n",
    "        )\n",
    "\n",
    "        @make_function(x)\n",
    "        def calc_x(x):\n",
    "            return x+0.1\n",
    "        \n",
    "        @make_function(y_cap)\n",
    "        def calc_y_cap(x=x,t=theta):\n",
    "            return x*t+5.\n",
    "\n",
    "        @make_function(loss)\n",
    "        def calc_loss(y=y,yc=y_cap):\n",
    "            res = jnp.square(yc - y).mean()\n",
    "            return res"
   ]
  },
  {
   "cell_type": "code",
   "execution_count": 3,
   "id": "79095071-5619-48f8-b3ad-dc2afae9d09c",
   "metadata": {},
   "outputs": [],
   "source": [
    "dt = 1.0\n",
    "with System(name='diff_sys') as diff_sys:\n",
    "    clock = make_clock(dt=dt, units='seconds')\n",
    "    some_sys = SomeSystem(name='some_sys', dt=clock.dt)"
   ]
  },
  {
   "cell_type": "code",
   "execution_count": 4,
   "id": "bc84709d-5af1-4454-87a3-95a6e420be76",
   "metadata": {},
   "outputs": [],
   "source": [
    "ds,ss = diff_sys,diff_sys.some_sys\n",
    "\n",
    "update_seq = set_derivative(\n",
    "    ds,\n",
    "    ss.loss,\n",
    "    ss.theta,\n",
    "    \"dldt\",\n",
    "    update_seq=True\n",
    ")\n",
    "\n",
    "def update_loss_grad(update_seq):\n",
    "    for n in update_seq:\n",
    "        n.forward()"
   ]
  },
  {
   "cell_type": "code",
   "execution_count": 5,
   "id": "cde2c72f-6074-4285-a215-3a0828b8b9bd",
   "metadata": {
    "tags": []
   },
   "outputs": [],
   "source": [
    "def calibrate_theta(tol,simulator,dt,max_iter,i=0.):\n",
    "    \n",
    "    def event():\n",
    "        print('loss,theta:',ss.loss.value,ss.theta.value)\n",
    "        t = ss.theta.value\n",
    "        a = ss.alpha.value\n",
    "        dldt = ds.dldt.value\n",
    "        new_t = t - a*dldt\n",
    "        ss.theta.value = new_t\n",
    "        update_loss_grad(update_seq)\n",
    "        ss.calc_loss.forward()\n",
    "        \n",
    "    print(f'calibration starts at t = {i*dt}')\n",
    "    iter=1\n",
    "    while ss.loss.value>tol and iter<max_iter:\n",
    "        simulator.add_event(i*dt,event)\n",
    "        simulator.forward()\n",
    "        iter += 1\n",
    "    print(f\"calibration over with {iter} iterations\")\n",
    "    print('loss,theta:',ss.loss.value,ss.theta.value)\n",
    "    "
   ]
  },
  {
   "cell_type": "code",
   "execution_count": 6,
   "id": "98cf2850-2d8b-42e5-a67e-f8d54c9fb4d5",
   "metadata": {},
   "outputs": [],
   "source": [
    "def update_x_y():\n",
    "    ss.x.value = np.array([10.,20.])\n",
    "    ss.y.value = np.array([6.,7.])"
   ]
  },
  {
   "cell_type": "code",
   "execution_count": 7,
   "id": "43c4c476-9e1d-4bac-ac8e-2ddf5cc7d675",
   "metadata": {
    "tags": []
   },
   "outputs": [
    {
     "name": "stdout",
     "output_type": "stream",
     "text": [
      "calibration starts at t=3.0\n",
      "loss,theta: 202.5 1.0\n",
      "loss,theta: 50.624992 0.54999995\n",
      "loss,theta: 12.656246 0.32499996\n",
      "loss,theta: 3.1640625 0.21249998\n",
      "loss,theta: 0.7910156 0.15624997\n",
      "loss,theta: 0.19775324 0.12812497\n",
      "loss,theta: 0.049438477 0.11406249\n",
      "loss,theta: 0.012359619 0.10703124\n",
      "loss,theta: 0.0030899048 0.10351562\n",
      "loss,theta: 0.0007724762 0.1017578\n",
      "loss,theta: 0.00019311905 0.100878894\n",
      "loss,theta: 4.8279762e-05 0.100439444\n",
      "loss,theta: 1.2069941e-05 0.10021972\n",
      "calibration over with 14 iterations\n",
      "loss,theta: 3.0174851e-06 0.10010985\n"
     ]
    }
   ],
   "source": [
    "simulator = Simulator(ds)\n",
    "tol=1e-5\n",
    "for i in range(4):\n",
    "    simulator.forward()\n",
    "    simulator.transition()\n",
    "    if i == 3:\n",
    "        simulator.add_event(i*dt, update_x_y)\n",
    "        simulator.forward()\n",
    "        calibrate_theta(tol,simulator,dt,100,i=i)"
   ]
  }
 ],
 "metadata": {
  "kernelspec": {
   "display_name": "Python 3 (ipykernel)",
   "language": "python",
   "name": "python3"
  },
  "language_info": {
   "codemirror_mode": {
    "name": "ipython",
    "version": 3
   },
   "file_extension": ".py",
   "mimetype": "text/x-python",
   "name": "python",
   "nbconvert_exporter": "python",
   "pygments_lexer": "ipython3",
   "version": "3.8.12"
  }
 },
 "nbformat": 4,
 "nbformat_minor": 5
}
