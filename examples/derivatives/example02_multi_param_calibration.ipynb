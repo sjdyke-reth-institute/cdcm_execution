{
 "cells": [
  {
   "cell_type": "code",
   "execution_count": 1,
   "id": "c5fe1b27-6065-4c01-a42e-1c192b882c39",
   "metadata": {},
   "outputs": [],
   "source": [
    "import os\n",
    "\n",
    "import numpy as np\n",
    "import jax.numpy as jnp\n",
    "import matplotlib.pyplot as plt\n",
    "import networkx as nx\n",
    "import scipy.optimize as optimize\n",
    "\n",
    "from cdcm import *\n",
    "from cdcm_utils.derivatives import set_derivative\n",
    "from figures import *"
   ]
  },
  {
   "cell_type": "code",
   "execution_count": 2,
   "id": "2766656a-5fe3-487f-89cd-55e5e3f69a1c",
   "metadata": {},
   "outputs": [],
   "source": [
    "dt = 1.\n",
    "class SomeSystem(System):\n",
    "\n",
    "    def __init__(self, name, **kwargs):\n",
    "        super().__init__(name=name, **kwargs)\n",
    "\n",
    "    def define_internal_nodes(self, dt, **kwargs):\n",
    "                       \n",
    "        theta = Parameter(\n",
    "            value=np.array([1., 1.]),\n",
    "            name='theta',\n",
    "            units=None,\n",
    "        )\n",
    "        alpha = Parameter(\n",
    "            value=0.001,\n",
    "            name='alpha',\n",
    "            units=None,\n",
    "        )\n",
    "        y_cap = Variable(\n",
    "            value=0.,\n",
    "            name='y_cap',\n",
    "            units=None\n",
    "        )\n",
    "        y = Parameter(\n",
    "            value=0.,\n",
    "            name='y',\n",
    "            units=None\n",
    "        )\n",
    "        x = State(\n",
    "            value=0.,\n",
    "            name='x',\n",
    "            units=None\n",
    "        )\n",
    "        loss = Variable(\n",
    "            value=10.,\n",
    "            name='loss',\n",
    "            units=None,\n",
    "        )\n",
    "        \n",
    "        @make_function(x)\n",
    "        def calc_x(x=x):\n",
    "            return x+0.1\n",
    "            \n",
    "\n",
    "        @make_function(y_cap)\n",
    "        def calc_y_cap(x=x,t=theta):\n",
    "            return x*t[0]+t[1]\n",
    "\n",
    "        @make_function(loss)\n",
    "        def calc_loss(y=y,yc=y_cap):\n",
    "            res = jnp.square(yc - y).mean()\n",
    "            return res"
   ]
  },
  {
   "cell_type": "code",
   "execution_count": 3,
   "id": "79095071-5619-48f8-b3ad-dc2afae9d09c",
   "metadata": {},
   "outputs": [],
   "source": [
    "dt = 1.0\n",
    "with System(name='diff_sys') as diff_sys:\n",
    "    clock = make_clock(dt=dt, units='seconds')\n",
    "    some_sys = SomeSystem(name='some_sys', dt=clock.dt)"
   ]
  },
  {
   "cell_type": "code",
   "execution_count": 4,
   "id": "bc84709d-5af1-4454-87a3-95a6e420be76",
   "metadata": {},
   "outputs": [],
   "source": [
    "ds,ss = diff_sys,diff_sys.some_sys\n",
    "\n",
    "update_seq = set_derivative(\n",
    "    ds,\n",
    "    ss.loss,\n",
    "    ss.theta,\n",
    "    \"dldt\",\n",
    "    update_seq=True\n",
    ")\n",
    "\n",
    "def update_loss_grad(update_seq):\n",
    "    for n in update_seq:\n",
    "        n.forward()"
   ]
  },
  {
   "cell_type": "code",
   "execution_count": 5,
   "id": "5b5e33c9-18fa-4a77-8ed0-15b3f19b920b",
   "metadata": {},
   "outputs": [
    {
     "name": "stdout",
     "output_type": "stream",
     "text": [
      "['calc_x', 'calc_y_cap', 'calc_pdy_capdtheta', 'calc_pdlossdy_cap', 'calc_dldt']\n"
     ]
    }
   ],
   "source": [
    "print([i.name for i in update_seq])"
   ]
  },
  {
   "cell_type": "code",
   "execution_count": 6,
   "id": "cde2c72f-6074-4285-a215-3a0828b8b9bd",
   "metadata": {
    "tags": []
   },
   "outputs": [],
   "source": [
    "def calibrate_theta(simulator,dt,i=0):\n",
    "    \n",
    "    def set_theta(t):\n",
    "        \n",
    "        def event():\n",
    "            ss.theta.value = t\n",
    "\n",
    "        return event\n",
    "        \n",
    "    \n",
    "    def objective_fn(t):\n",
    "        simulator.add_event(i*dt,set_theta(t))\n",
    "        simulator.forward()\n",
    "        print('loss,theta:',ss.loss.value,ss.theta.value)\n",
    "        update_loss_grad(update_seq)\n",
    "        dldt = ds.dldt.value\n",
    "        ss.calc_loss.forward()\n",
    "        return ss.loss.value, dldt\n",
    "\n",
    "        \n",
    "    print(f'calibration starts at t = {i*dt}')\n",
    "    print('loss,theta:',ss.loss.value,ss.theta.value)\n",
    "    sol = optimize.minimize(\n",
    "        objective_fn,\n",
    "        ss.theta.value,\n",
    "        jac=True,\n",
    "        method='BFGS',\n",
    "        options={'disp':True},\n",
    "    )\n",
    "    print(f\"calibration over with new theta {sol.x}\")"
   ]
  },
  {
   "cell_type": "code",
   "execution_count": 7,
   "id": "7432a750-4797-40fe-a79b-12d6f254a9e4",
   "metadata": {},
   "outputs": [],
   "source": [
    "def update_x_y_theta():\n",
    "    ss.x.value = np.array([10.,20.])\n",
    "    ss.y.value = np.array([6.,7.])\n",
    "    ss.theta.value = np.array([1., 6.])"
   ]
  },
  {
   "cell_type": "code",
   "execution_count": 8,
   "id": "43c4c476-9e1d-4bac-ac8e-2ddf5cc7d675",
   "metadata": {
    "tags": []
   },
   "outputs": [
    {
     "name": "stdout",
     "output_type": "stream",
     "text": [
      "calibration starts at t = 3.0\n",
      "loss,theta: 230.5 [1. 6.]\n",
      "loss,theta: 230.5 [1. 6.]\n",
      "loss,theta: 0.75942075 [-0.00816169  5.93909023]\n",
      "loss,theta: 0.05691846 [0.05471526 5.75444268]\n",
      "loss,theta: 0.03592367 [0.06498169 5.59784613]\n",
      "loss,theta: 0.0060410444 [0.08589765 5.24423292]\n",
      "loss,theta: 1.9456394e-07 [0.10003145 4.99994031]\n",
      "loss,theta: 1.2718215e-09 [0.10000294 4.99998839]\n",
      "loss,theta: 1.0345581e-14 [0.09999998 5.0000003 ]\n",
      "Optimization terminated successfully.\n",
      "         Current function value: 0.000000\n",
      "         Iterations: 7\n",
      "         Function evaluations: 8\n",
      "         Gradient evaluations: 8\n",
      "calibration over with new theta [0.09999998 5.0000003 ]\n"
     ]
    }
   ],
   "source": [
    "simulator = Simulator(ds)\n",
    "\n",
    "for i in range(5):\n",
    "    simulator.forward()\n",
    "    simulator.transition()\n",
    "    if i==3:\n",
    "        simulator.add_event(i*dt, update_x_y_theta)\n",
    "        simulator.forward()\n",
    "        calibrate_theta(simulator,dt,i=i)"
   ]
  },
  {
   "cell_type": "code",
   "execution_count": null,
   "id": "74eddd6c-eb29-4e5b-bdaa-69e2b04c776f",
   "metadata": {},
   "outputs": [],
   "source": []
  }
 ],
 "metadata": {
  "kernelspec": {
   "display_name": "Python 3 (ipykernel)",
   "language": "python",
   "name": "python3"
  },
  "language_info": {
   "codemirror_mode": {
    "name": "ipython",
    "version": 3
   },
   "file_extension": ".py",
   "mimetype": "text/x-python",
   "name": "python",
   "nbconvert_exporter": "python",
   "pygments_lexer": "ipython3",
   "version": "3.8.12"
  }
 },
 "nbformat": 4,
 "nbformat_minor": 5
}
