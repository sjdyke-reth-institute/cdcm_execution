{
 "cells": [
  {
   "cell_type": "markdown",
   "id": "5dcd36ca",
   "metadata": {},
   "source": [
    "\"\"\"\n",
    "Example of creating an RC model of a single zone fully deterministic\n",
    "building from YABML in CDCM.\n",
    "\n",
    "Author(s):\n",
    "    Sreehari Manikkan\n",
    "\n",
    "Date:\n",
    "    05/16/2022\n",
    "\"\"\""
   ]
  },
  {
   "cell_type": "code",
   "execution_count": 1,
   "id": "2cd3102b",
   "metadata": {},
   "outputs": [],
   "source": [
    "import os\n",
    "\n",
    "import pandas as pd\n",
    "import numpy as np\n",
    "import matplotlib.pyplot as plt\n",
    "\n",
    "from yabml import *\n",
    "from cdcm import *\n",
    "\n",
    "from building_system import building_sys\n",
    "from single_zone import single_zone_building"
   ]
  },
  {
   "cell_type": "code",
   "execution_count": 2,
   "id": "7993ae89",
   "metadata": {},
   "outputs": [],
   "source": [
    "df = pd.read_csv(\"./rc_system_data/weather_data_2017_pandas.csv\")\n",
    "\n",
    "weather_sys = make_data_system(\n",
    "    df[[\"Tout\", \"Qsg\", \"Qint\"]],\n",
    "    name=\"weather_sytem\",\n",
    "    column_units=[\"degC\", \"Wh\", \"Wh\"],\n",
    "    column_desciptions=[\n",
    "        \"Outdoor air temperature\",\n",
    "        \"Solar irradiance\",\n",
    "        \"Internal heat gain\"\n",
    "    ]\n",
    ")\n",
    "\n",
    "clock = make_clock(1800)"
   ]
  },
  {
   "cell_type": "code",
   "execution_count": 3,
   "id": "f17daec3",
   "metadata": {},
   "outputs": [
    {
     "ename": "ValueError",
     "evalue": "Node energy has an uninitialized value. Please specify a value so that I can figure out the type of the variable I need to store.",
     "output_type": "error",
     "traceback": [
      "\u001b[0;31m---------------------------------------------------------------------------\u001b[0m",
      "\u001b[0;31mValueError\u001b[0m                                Traceback (most recent call last)",
      "Input \u001b[0;32mIn [3]\u001b[0m, in \u001b[0;36m<cell line: 4>\u001b[0;34m()\u001b[0m\n\u001b[1;32m      7\u001b[0m sample_zone_sys\u001b[38;5;241m.\u001b[39mforward()\n\u001b[1;32m      9\u001b[0m max_steps \u001b[38;5;241m=\u001b[39m \u001b[38;5;241m500\u001b[39m\n\u001b[0;32m---> 10\u001b[0m saver \u001b[38;5;241m=\u001b[39m \u001b[43mSimulationSaver\u001b[49m\u001b[43m(\u001b[49m\u001b[38;5;124;43m\"\u001b[39;49m\u001b[38;5;124;43mtest1_rc.h5\u001b[39;49m\u001b[38;5;124;43m\"\u001b[39;49m\u001b[43m,\u001b[49m\n\u001b[1;32m     11\u001b[0m \u001b[43m                        \u001b[49m\u001b[43msample_zone_sys\u001b[49m\u001b[43m,\u001b[49m\n\u001b[1;32m     12\u001b[0m \u001b[43m                        \u001b[49m\u001b[43mmax_steps\u001b[49m\u001b[38;5;241;43m=\u001b[39;49m\u001b[43mmax_steps\u001b[49m\n\u001b[1;32m     13\u001b[0m \u001b[43m\u001b[49m\u001b[43m)\u001b[49m\n\u001b[1;32m     15\u001b[0m \u001b[38;5;28;01mfor\u001b[39;00m i \u001b[38;5;129;01min\u001b[39;00m \u001b[38;5;28mrange\u001b[39m(max_steps):\n\u001b[1;32m     16\u001b[0m     sample_zone_sys\u001b[38;5;241m.\u001b[39mforward()\n",
      "File \u001b[0;32m~/PurduePhd/CDCM_reconfig/cdcm/simulation_saver.py:67\u001b[0m, in \u001b[0;36mSimulationSaver.__init__\u001b[0;34m(self, file_or_group, system, max_steps)\u001b[0m\n\u001b[1;32m     65\u001b[0m \u001b[38;5;28mself\u001b[39m\u001b[38;5;241m.\u001b[39m_tracked_nodes \u001b[38;5;241m=\u001b[39m []\n\u001b[1;32m     66\u001b[0m \u001b[38;5;28mself\u001b[39m\u001b[38;5;241m.\u001b[39m_count \u001b[38;5;241m=\u001b[39m \u001b[38;5;241m0\u001b[39m\n\u001b[0;32m---> 67\u001b[0m \u001b[38;5;28;43mself\u001b[39;49m\u001b[38;5;241;43m.\u001b[39;49m\u001b[43m_create_h5_structure\u001b[49m\u001b[43m(\u001b[49m\u001b[43mgroup\u001b[49m\u001b[43m,\u001b[49m\u001b[43m \u001b[49m\u001b[43msystem\u001b[49m\u001b[43m)\u001b[49m\n",
      "File \u001b[0;32m~/PurduePhd/CDCM_reconfig/cdcm/simulation_saver.py:80\u001b[0m, in \u001b[0;36mSimulationSaver._create_h5_structure\u001b[0;34m(self, group, system_or_node)\u001b[0m\n\u001b[1;32m     78\u001b[0m     sg\u001b[38;5;241m.\u001b[39mattrs[\u001b[38;5;124m\"\u001b[39m\u001b[38;5;124mdescription\u001b[39m\u001b[38;5;124m\"\u001b[39m] \u001b[38;5;241m=\u001b[39m system\u001b[38;5;241m.\u001b[39mdescription\n\u001b[1;32m     79\u001b[0m     \u001b[38;5;28;01mfor\u001b[39;00m n \u001b[38;5;129;01min\u001b[39;00m system\u001b[38;5;241m.\u001b[39mdirect_nodes\u001b[38;5;241m.\u001b[39mvalues():\n\u001b[0;32m---> 80\u001b[0m         \u001b[38;5;28;43mself\u001b[39;49m\u001b[38;5;241;43m.\u001b[39;49m\u001b[43m_create_h5_structure\u001b[49m\u001b[43m(\u001b[49m\u001b[43msg\u001b[49m\u001b[43m,\u001b[49m\u001b[43m \u001b[49m\u001b[43mn\u001b[49m\u001b[43m)\u001b[49m\n\u001b[1;32m     81\u001b[0m \u001b[38;5;28;01melse\u001b[39;00m:\n\u001b[1;32m     82\u001b[0m     node \u001b[38;5;241m=\u001b[39m system_or_node\n",
      "File \u001b[0;32m~/PurduePhd/CDCM_reconfig/cdcm/simulation_saver.py:80\u001b[0m, in \u001b[0;36mSimulationSaver._create_h5_structure\u001b[0;34m(self, group, system_or_node)\u001b[0m\n\u001b[1;32m     78\u001b[0m     sg\u001b[38;5;241m.\u001b[39mattrs[\u001b[38;5;124m\"\u001b[39m\u001b[38;5;124mdescription\u001b[39m\u001b[38;5;124m\"\u001b[39m] \u001b[38;5;241m=\u001b[39m system\u001b[38;5;241m.\u001b[39mdescription\n\u001b[1;32m     79\u001b[0m     \u001b[38;5;28;01mfor\u001b[39;00m n \u001b[38;5;129;01min\u001b[39;00m system\u001b[38;5;241m.\u001b[39mdirect_nodes\u001b[38;5;241m.\u001b[39mvalues():\n\u001b[0;32m---> 80\u001b[0m         \u001b[38;5;28;43mself\u001b[39;49m\u001b[38;5;241;43m.\u001b[39;49m\u001b[43m_create_h5_structure\u001b[49m\u001b[43m(\u001b[49m\u001b[43msg\u001b[49m\u001b[43m,\u001b[49m\u001b[43m \u001b[49m\u001b[43mn\u001b[49m\u001b[43m)\u001b[49m\n\u001b[1;32m     81\u001b[0m \u001b[38;5;28;01melse\u001b[39;00m:\n\u001b[1;32m     82\u001b[0m     node \u001b[38;5;241m=\u001b[39m system_or_node\n",
      "File \u001b[0;32m~/PurduePhd/CDCM_reconfig/cdcm/simulation_saver.py:96\u001b[0m, in \u001b[0;36mSimulationSaver._create_h5_structure\u001b[0;34m(self, group, system_or_node)\u001b[0m\n\u001b[1;32m     94\u001b[0m     shape \u001b[38;5;241m=\u001b[39m node\u001b[38;5;241m.\u001b[39mvalue\u001b[38;5;241m.\u001b[39mshape\n\u001b[1;32m     95\u001b[0m \u001b[38;5;28;01melse\u001b[39;00m:\n\u001b[0;32m---> 96\u001b[0m     \u001b[38;5;28;01mraise\u001b[39;00m \u001b[38;5;167;01mValueError\u001b[39;00m(\u001b[38;5;124mf\u001b[39m\u001b[38;5;124m\"\u001b[39m\u001b[38;5;124mNode \u001b[39m\u001b[38;5;132;01m{\u001b[39;00mnode\u001b[38;5;241m.\u001b[39mname\u001b[38;5;132;01m}\u001b[39;00m\u001b[38;5;124m has an uninitialized value.\u001b[39m\u001b[38;5;124m\"\u001b[39m\n\u001b[1;32m     97\u001b[0m         \u001b[38;5;241m+\u001b[39m \u001b[38;5;124m\"\u001b[39m\u001b[38;5;124m Please specify a value so that I can figure out\u001b[39m\u001b[38;5;124m\"\u001b[39m\n\u001b[1;32m     98\u001b[0m         \u001b[38;5;241m+\u001b[39m \u001b[38;5;124m\"\u001b[39m\u001b[38;5;124m the type of the variable I need to store.\u001b[39m\u001b[38;5;124m\"\u001b[39m)\n\u001b[1;32m     99\u001b[0m maxshape \u001b[38;5;241m=\u001b[39m (\u001b[38;5;28mself\u001b[39m\u001b[38;5;241m.\u001b[39mmax_steps,) \u001b[38;5;241m+\u001b[39m shape\n\u001b[1;32m    100\u001b[0m \u001b[38;5;66;03m# Create the dataset\u001b[39;00m\n",
      "\u001b[0;31mValueError\u001b[0m: Node energy has an uninitialized value. Please specify a value so that I can figure out the type of the variable I need to store."
     ]
    }
   ],
   "source": [
    "if os.path.exists('test1_rc.h5'):\n",
    "    os.remove('test1_rc.h5')\n",
    "\n",
    "for sample_building in single_zone_building.sample(1):\n",
    "    sample_building_sys = building_sys(sample_building, weather_sys, clock)\n",
    "    \n",
    "    for sample_zone_sys in sample_building_sys:\n",
    "        sample_zone_sys.forward()\n",
    "        \n",
    "        max_steps = 500\n",
    "        saver = SimulationSaver(\"test1_rc.h5\",\n",
    "                                sample_zone_sys,\n",
    "                                max_steps=max_steps\n",
    "        )\n",
    "\n",
    "        for i in range(max_steps):\n",
    "            sample_zone_sys.forward()\n",
    "            sample_zone_saver.save()\n",
    "            sample_zone_sys.transition()\n",
    "\n",
    "        #T_room_sensor will be a numpy array\n",
    "        T_room_sensor = (\n",
    "            saver.file_handler[\"/everything/zone_rc_sys/T_room_sensor\"][:]\n",
    "        )\n",
    "        T_env = (\n",
    "            saver.file_handler[\"/everything/zone_rc_sys/T_env\"][:]\n",
    "        )\n",
    "        T_genv = (\n",
    "            saver.file_handler[\"/everything/zone_rc_sys/T_genv\"][:]\n",
    "        )\n",
    "        plt.plot(T_room_sensor, label='T_room_sensor')\n",
    "        plt.plot(T_env, label='T_env')\n",
    "        plt.plot(T_genv, label='T_genv')\n",
    "        plt.legend()\n",
    "        plt.show()"
   ]
  },
  {
   "cell_type": "code",
   "execution_count": null,
   "id": "8116a697",
   "metadata": {},
   "outputs": [],
   "source": []
  }
 ],
 "metadata": {
  "kernelspec": {
   "display_name": "Python 3 (ipykernel)",
   "language": "python",
   "name": "python3"
  },
  "language_info": {
   "codemirror_mode": {
    "name": "ipython",
    "version": 3
   },
   "file_extension": ".py",
   "mimetype": "text/x-python",
   "name": "python",
   "nbconvert_exporter": "python",
   "pygments_lexer": "ipython3",
   "version": "3.8.12"
  }
 },
 "nbformat": 4,
 "nbformat_minor": 5
}
