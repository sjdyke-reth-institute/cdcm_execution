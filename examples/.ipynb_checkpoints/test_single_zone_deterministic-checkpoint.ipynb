{
 "cells": [
  {
   "cell_type": "markdown",
   "id": "7ff3cc95",
   "metadata": {},
   "source": [
    "# Deterministic single zone example"
   ]
  },
  {
   "cell_type": "markdown",
   "id": "5dcd36ca",
   "metadata": {},
   "source": [
    "\"\"\"\n",
    "Example of creating a CDCM system  of a YABML\n",
    "single zone deterministic building.\n",
    "\n",
    "Author(s):\n",
    "    Sreehari Manikkan\n",
    "\n",
    "Date:\n",
    "    06/22/2022\n",
    "\"\"\""
   ]
  },
  {
   "cell_type": "markdown",
   "id": "80087255",
   "metadata": {},
   "source": [
    "We start with importing the required standard libraries, packages,\n",
    "modules and functions. We import h5py which enables us to use hdf5 format\n",
    "data storing while using python. We import YABML which is the in house building\n",
    "description and modeling python package. We then import CDCM which is\n",
    "the in house python package for modeling general dynamical systems.\n",
    "From *building_system* module, we import *make_building_cdcm_system* function\n",
    "which essentially outputs the CDCM system corresponding to the YABML\n",
    "building object given. We import the *single_zone_building* which is a\n",
    "fully determinstic YABML building object from the *single_zone_deterministic*\n",
    "module."
   ]
  },
  {
   "cell_type": "code",
   "execution_count": 1,
   "id": "2cd3102b",
   "metadata": {},
   "outputs": [],
   "source": [
    "import h5py\n",
    "import os\n",
    "\n",
    "import pandas as pd\n",
    "import numpy as np\n",
    "import matplotlib.pyplot as plt\n",
    "\n",
    "from yabml import *\n",
    "from cdcm import *\n",
    "\n",
    "from building_system import make_building_cdcm_system\n",
    "from single_zone_deterministic import single_zone_building"
   ]
  },
  {
   "cell_type": "markdown",
   "id": "eb833591",
   "metadata": {},
   "source": [
    "Next we create a panda dataframe -- df from the weather_data_2017_pandas.csv file. This csv file contains weather data\n",
    "of 2017. Using the dataframe, a CDCM data system called *weather_sys* is created by calling the *make_data_system* function available in CDCM."
   ]
  },
  {
   "cell_type": "code",
   "execution_count": 2,
   "id": "7993ae89",
   "metadata": {},
   "outputs": [
    {
     "name": "stdout",
     "output_type": "stream",
     "text": [
      "['Tout' 'Qsg' 'Qint'] ['degC', 'Wh', 'Wh'] ['Outdoor air temperature', 'Solar irradiance', 'Internal heat gain'] (True, True, True)\n"
     ]
    }
   ],
   "source": [
    "df = pd.read_csv(\"./rc_system_data/weather_data_2017_pandas.csv\")\n",
    "def get_weather_sys(df):\n",
    "    weather_sys = make_data_system(\n",
    "        df[[\"Tout\", \"Qsg\", \"Qint\"]],\n",
    "        name=\"weather_sys\",\n",
    "        column_units=[\"degC\", \"Wh\", \"Wh\"],\n",
    "        column_desciptions=[\n",
    "            \"Outdoor air temperature\",\n",
    "            \"Solar irradiance\",\n",
    "            \"Internal heat gain\"\n",
    "        ]\n",
    "    )\n",
    "    return weather_sys"
   ]
  },
  {
   "cell_type": "markdown",
   "id": "87af64c2",
   "metadata": {},
   "source": [
    "We create a CDCM clock system called *clock* with time step = 1800s. CDCM system called *building_system* corresponding to the *single_zone_building* is created by passing the yabml building object, weather data system and the clock system to make_building_cdcm_system() function.<br><br>\n",
    "We then create a CDCM SimulationSaver object called test1_saver which will save the simulation results when simulation is run to the file test1_building.h5. We run the simulation by calling the forward() and tranistion() functions of the *building_system* inside a for loop till the maximum step given is reached."
   ]
  },
  {
   "cell_type": "code",
   "execution_count": 3,
   "id": "9e07176c",
   "metadata": {},
   "outputs": [
    {
     "ename": "AttributeError",
     "evalue": "'Zone' object has no attribute 'occupancy'",
     "output_type": "error",
     "traceback": [
      "\u001b[0;31m---------------------------------------------------------------------------\u001b[0m",
      "\u001b[0;31mAttributeError\u001b[0m                            Traceback (most recent call last)",
      "Input \u001b[0;32mIn [3]\u001b[0m, in \u001b[0;36m<cell line: 2>\u001b[0;34m()\u001b[0m\n\u001b[1;32m      1\u001b[0m clock \u001b[38;5;241m=\u001b[39m make_clock(\u001b[38;5;241m1800\u001b[39m)\n\u001b[0;32m----> 2\u001b[0m building_system \u001b[38;5;241m=\u001b[39m \u001b[43mmake_building_cdcm_system\u001b[49m\u001b[43m(\u001b[49m\u001b[43msingle_zone_building\u001b[49m\u001b[43m,\u001b[49m\n\u001b[1;32m      3\u001b[0m \u001b[43m                                            \u001b[49m\u001b[43mweather_sys\u001b[49m\u001b[43m,\u001b[49m\n\u001b[1;32m      4\u001b[0m \u001b[43m                                            \u001b[49m\u001b[43mclock\u001b[49m\u001b[43m)\u001b[49m[\u001b[38;5;241m0\u001b[39m]\n\u001b[1;32m      5\u001b[0m max_steps \u001b[38;5;241m=\u001b[39m \u001b[38;5;241m1000\u001b[39m\n\u001b[1;32m      6\u001b[0m file_name \u001b[38;5;241m=\u001b[39m \u001b[38;5;124m\"\u001b[39m\u001b[38;5;124mtest1_building.h5\u001b[39m\u001b[38;5;124m\"\u001b[39m\n",
      "File \u001b[0;32m~/PurduePhd/CDCM_reconfig/examples/building_system.py:231\u001b[0m, in \u001b[0;36mmake_building_cdcm_system\u001b[0;34m(building, weather_sys, clock)\u001b[0m\n\u001b[1;32m    229\u001b[0m zone_rc_sys\u001b[38;5;241m.\u001b[39mR_gr\u001b[38;5;241m.\u001b[39mvalue \u001b[38;5;241m=\u001b[39m R_gr\n\u001b[1;32m    230\u001b[0m zone_rc_sys\u001b[38;5;241m.\u001b[39mR_ge\u001b[38;5;241m.\u001b[39mvalue \u001b[38;5;241m=\u001b[39m R_ge\n\u001b[0;32m--> 231\u001b[0m zone_rc_sys\u001b[38;5;241m.\u001b[39mT_room\u001b[38;5;241m.\u001b[39mvalue \u001b[38;5;241m=\u001b[39m \u001b[43mz\u001b[49m\u001b[38;5;241;43m.\u001b[39;49m\u001b[43moccupancy\u001b[49m\u001b[38;5;241m.\u001b[39mT_room\u001b[38;5;241m.\u001b[39mvalue\n\u001b[1;32m    233\u001b[0m \u001b[38;5;66;03m# ---------- Occupancy System -----------------#\u001b[39;00m\n\u001b[1;32m    234\u001b[0m \u001b[38;5;124;03m\"\"\"\u001b[39;00m\n\u001b[1;32m    235\u001b[0m \u001b[38;5;124;03mWe make the Occupant system of the zone next.\u001b[39;00m\n\u001b[1;32m    236\u001b[0m \u001b[38;5;124;03m\"\"\"\u001b[39;00m\n",
      "\u001b[0;31mAttributeError\u001b[0m: 'Zone' object has no attribute 'occupancy'"
     ]
    }
   ],
   "source": [
    "clock = make_clock(1800)\n",
    "building_system = make_building_cdcm_system(single_zone_building,\n",
    "                                            weather_sys,\n",
    "                                            clock)[0]\n",
    "max_steps = 1000\n",
    "file_name = \"test1_building.h5\"\n",
    "\n",
    "if os.path.exists(file_name):\n",
    "        os.remove(file_name)\n",
    "\n",
    "test1_saver = SimulationSaver(file_name,\n",
    "                            building_system,\n",
    "                            max_steps=max_steps\n",
    ")\n",
    "\n",
    "for i in range(max_steps):\n",
    "    building_system.forward()\n",
    "    test1_saver.save()\n",
    "    building_system.transition()"
   ]
  },
  {
   "cell_type": "markdown",
   "id": "aac822ad",
   "metadata": {},
   "source": [
    "We have completed the simulation and saving the results. Now let us plot some results. We fetch simulated results using the SimulationSaver object *test1_saver*. By giving the path of the variable of interest, the SimulationSaver object will give us the numpy array of the simulation results. We can plot and visualize these numpy arrays using matplotlib library."
   ]
  },
  {
   "cell_type": "code",
   "execution_count": null,
   "id": "f17daec3",
   "metadata": {
    "scrolled": true
   },
   "outputs": [],
   "source": [
    "T_room_sensor = (\n",
    "    test1_saver.file_handler[\n",
    "        \"/zone_cdcm_system/zone_rc_sys/T_room_sensor\"\n",
    "    ][:]\n",
    ")\n",
    "T_env = (\n",
    "    test1_saver.file_handler[\"/zone_cdcm_system/zone_rc_sys/T_env\"][:]\n",
    ")\n",
    "T_genv = (\n",
    "    test1_saver.file_handler[\"/zone_cdcm_system/zone_rc_sys/T_genv\"][:]\n",
    ")\n",
    "T_out = (\n",
    "    test1_saver.file_handler[\"/zone_cdcm_system/weather_sys/Tout\"][:]\n",
    ")\n",
    "\n",
    "time = np.arange(max_steps) * 0.5/24\n",
    "plt.plot(time, T_room_sensor, label='T_room_sensor')\n",
    "plt.plot(time, T_env, label='T_env')\n",
    "plt.plot(time, T_genv, label='T_genv')\n",
    "plt.plot(time, T_out, label='T_out')\n",
    "plt.ylabel('Temperature (C)')\n",
    "plt.xlabel('Time (days)')\n",
    "plt.title('Results for single zone deterministic building')\n",
    "plt.legend()\n",
    "plt.show()"
   ]
  },
  {
   "cell_type": "code",
   "execution_count": null,
   "id": "96ab4bd6",
   "metadata": {},
   "outputs": [],
   "source": []
  }
 ],
 "metadata": {
  "kernelspec": {
   "display_name": "Python 3 (ipykernel)",
   "language": "python",
   "name": "python3"
  },
  "language_info": {
   "codemirror_mode": {
    "name": "ipython",
    "version": 3
   },
   "file_extension": ".py",
   "mimetype": "text/x-python",
   "name": "python",
   "nbconvert_exporter": "python",
   "pygments_lexer": "ipython3",
   "version": "3.8.12"
  }
 },
 "nbformat": 4,
 "nbformat_minor": 5
}
