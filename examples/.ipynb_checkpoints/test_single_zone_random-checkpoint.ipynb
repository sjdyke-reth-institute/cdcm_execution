{
 "cells": [
  {
   "cell_type": "markdown",
   "id": "48c2a508",
   "metadata": {},
   "source": [
    "# single zone with uncertainty example"
   ]
  },
  {
   "cell_type": "markdown",
   "id": "5dcd36ca",
   "metadata": {},
   "source": [
    "\"\"\"\n",
    "Example of creating a CDCM system of a YABML\n",
    "single zone with uncertainty building.\n",
    "\n",
    "Author(s):\n",
    "    Sreehari Manikkan\n",
    "\n",
    "Date:\n",
    "    05/23/2022\n",
    "\"\"\""
   ]
  },
  {
   "cell_type": "markdown",
   "id": "5c8a3533",
   "metadata": {},
   "source": [
    "We start with importing the required standard libraries, packages,\n",
    "modules and functions. We import h5py which enables us to use hdf5 format\n",
    "data storing while using python. We import YABML which is the in house building\n",
    "description and modeling python package. We then import CDCM which is\n",
    "the in house python package for modeling general dynamical systems.\n",
    "From *building_system* module, we import *make_building_cdcm_system* function\n",
    "which essentially outputs the CDCM system corresponding to the YABML\n",
    "building object given. We import the *single_zone_building* which is a\n",
    "YABML building object with uncertainty from the *single_zone_random*\n",
    "module. The *single_zone_building* can be seen as a distribution of a single\n",
    "zone building from which we can draw samples of random building."
   ]
  },
  {
   "cell_type": "code",
   "execution_count": 1,
   "id": "2cd3102b",
   "metadata": {},
   "outputs": [],
   "source": [
    "import h5py\n",
    "import os\n",
    "\n",
    "import pandas as pd\n",
    "import numpy as np\n",
    "import matplotlib.pyplot as plt\n",
    "\n",
    "from yabml import *\n",
    "from cdcm import *\n",
    "\n",
    "from building_system import make_building_cdcm_system\n",
    "from single_zone_random import single_zone_building"
   ]
  },
  {
   "cell_type": "markdown",
   "id": "156042b9",
   "metadata": {},
   "source": [
    "Next we create a panda dataframe -- df from the weather_data_2017_pandas.csv file. This csv file contains weather data\n",
    "of 2017. Using the dataframe, a CDCM data system called *weather_sys* is created by calling the *make_data_system* function available in CDCM."
   ]
  },
  {
   "cell_type": "code",
   "execution_count": 2,
   "id": "7993ae89",
   "metadata": {},
   "outputs": [
    {
     "name": "stdout",
     "output_type": "stream",
     "text": [
      "['Tout' 'Qsg' 'Qint'] ['degC', 'Wh', 'Wh'] ['Outdoor air temperature', 'Solar irradiance', 'Internal heat gain'] (True, True, True)\n"
     ]
    }
   ],
   "source": [
    "df = pd.read_csv(\"./rc_system_data/weather_data_2017_pandas.csv\")\n",
    "\n",
    "weather_sys = make_data_system(\n",
    "    df[[\"Tout\", \"Qsg\", \"Qint\"]],\n",
    "    name=\"weather_sys\",\n",
    "    column_units=[\"degC\", \"Wh\", \"Wh\"],\n",
    "    column_desciptions=[\n",
    "        \"Outdoor air temperature\",\n",
    "        \"Solar irradiance\",\n",
    "        \"Internal heat gain\"\n",
    "    ]\n",
    ")\n"
   ]
  },
  {
   "cell_type": "markdown",
   "id": "a607156d",
   "metadata": {},
   "source": [
    "We create a CDCM clock system called *clock* with time step = 1800s. *test2_buildings.h5* file is created to store the simulation results. We try to simulate 9 different randomly sampled buildings. CDCM system called *building_system* corresponding to the *single_zone_building_sample* is created by passing the sampled YABML building object, weather data system and the clock system to make_building_cdcm_system() function.<br><br>\n",
    "We then create a CDCM SimulationSaver object for the sampled building. This SimulationSaver object will save the simulation results at the group provided for the sampled building. All the SimulationSaver objects of sampled buildings are stored in a list called *test2_saver*.\n",
    "We run the simulation by calling the forward() and tranistion() functions of the *building_system* of the sampled building inside a for loop till the maximum step given is reached."
   ]
  },
  {
   "cell_type": "code",
   "execution_count": null,
   "id": "caf3d923",
   "metadata": {},
   "outputs": [
    {
     "name": "stdout",
     "output_type": "stream",
     "text": [
      "------ R C values of the current zone -------\n",
      "C_room=2716200.0, C_env=inf, C_genv=18416165.01274456,\n",
      "            R_rc=inf, R_oe=0.0015106572482975831, R_er=0.15368453333333335, R_gr=0.021954933333333336,\n",
      "            R_gr=0.021954933333333336\n",
      "------ R C values of the current zone -------\n",
      "C_room=2716200.0, C_env=inf, C_genv=18416165.01274456,\n",
      "            R_rc=inf, R_oe=0.0015106590954658376, R_er=0.15368453333333335, R_gr=0.021954933333333336,\n",
      "            R_gr=0.021954933333333336\n",
      "------ R C values of the current zone -------\n",
      "C_room=2716200.0, C_env=inf, C_genv=18416165.01274456,\n",
      "            R_rc=inf, R_oe=0.0015114313737686178, R_er=0.15368453333333335, R_gr=0.021954933333333336,\n",
      "            R_gr=0.021954933333333336\n",
      "------ R C values of the current zone -------\n",
      "C_room=2716200.0, C_env=inf, C_genv=18416165.01274456,\n",
      "            R_rc=inf, R_oe=0.0015123898484069758, R_er=0.15368453333333335, R_gr=0.021954933333333336,\n",
      "            R_gr=0.021954933333333336\n",
      "------ R C values of the current zone -------\n",
      "C_room=2716200.0, C_env=inf, C_genv=18416165.01274456,\n",
      "            R_rc=inf, R_oe=0.0015097703388060935, R_er=0.15368453333333335, R_gr=0.021954933333333336,\n",
      "            R_gr=0.021954933333333336\n",
      "------ R C values of the current zone -------\n",
      "C_room=2716200.0, C_env=inf, C_genv=18416165.01274456,\n",
      "            R_rc=inf, R_oe=0.0015123624323266182, R_er=0.15368453333333335, R_gr=0.021954933333333336,\n",
      "            R_gr=0.021954933333333336\n",
      "------ R C values of the current zone -------\n",
      "C_room=2716200.0, C_env=inf, C_genv=18416165.01274456,\n",
      "            R_rc=inf, R_oe=0.0015106575069170473, R_er=0.15368453333333335, R_gr=0.021954933333333336,\n",
      "            R_gr=0.021954933333333336\n",
      "------ R C values of the current zone -------\n",
      "C_room=2716200.0, C_env=inf, C_genv=18416165.01274456,\n",
      "            R_rc=inf, R_oe=0.0015124047303452604, R_er=0.15368453333333335, R_gr=0.021954933333333336,\n",
      "            R_gr=0.021954933333333336\n"
     ]
    },
    {
     "name": "stderr",
     "output_type": "stream",
     "text": [
      "/Users/smanikka/PurduePhd/CDCM_reconfig/examples/occupant_system.py:161: RuntimeWarning: overflow encountered in exp\n",
      "  return 1/(1 + np.exp(-x))\n"
     ]
    },
    {
     "name": "stdout",
     "output_type": "stream",
     "text": [
      "------ R C values of the current zone -------\n",
      "C_room=2716200.0, C_env=inf, C_genv=18416165.01274456,\n",
      "            R_rc=inf, R_oe=0.0015105778186928773, R_er=0.15368453333333335, R_gr=0.021954933333333336,\n",
      "            R_gr=0.021954933333333336\n",
      "------ R C values of the current zone -------\n",
      "C_room=2716200.0, C_env=inf, C_genv=18416165.01274456,\n",
      "            R_rc=inf, R_oe=0.0015106933790292537, R_er=0.15368453333333335, R_gr=0.021954933333333336,\n",
      "            R_gr=0.021954933333333336\n",
      "------ R C values of the current zone -------\n",
      "C_room=2716200.0, C_env=inf, C_genv=18416165.01274456,\n",
      "            R_rc=inf, R_oe=0.0015106491651305245, R_er=0.15368453333333335, R_gr=0.021954933333333336,\n",
      "            R_gr=0.021954933333333336\n",
      "------ R C values of the current zone -------\n",
      "C_room=2716200.0, C_env=inf, C_genv=18416165.01274456,\n",
      "            R_rc=inf, R_oe=0.0015106770951431037, R_er=0.15368453333333335, R_gr=0.021954933333333336,\n",
      "            R_gr=0.021954933333333336\n",
      "------ R C values of the current zone -------\n",
      "C_room=2716200.0, C_env=inf, C_genv=18416165.01274456,\n",
      "            R_rc=inf, R_oe=0.0015114070379160737, R_er=0.15368453333333335, R_gr=0.021954933333333336,\n",
      "            R_gr=0.021954933333333336\n",
      "------ R C values of the current zone -------\n",
      "C_room=2716200.0, C_env=inf, C_genv=18416165.01274456,\n",
      "            R_rc=inf, R_oe=0.0015106471999678996, R_er=0.15368453333333335, R_gr=0.021954933333333336,\n",
      "            R_gr=0.021954933333333336\n",
      "------ R C values of the current zone -------\n",
      "C_room=2716200.0, C_env=inf, C_genv=18416165.01274456,\n",
      "            R_rc=inf, R_oe=0.001510626514157156, R_er=0.15368453333333335, R_gr=0.021954933333333336,\n",
      "            R_gr=0.021954933333333336\n",
      "------ R C values of the current zone -------\n",
      "C_room=2716200.0, C_env=inf, C_genv=18416165.01274456,\n",
      "            R_rc=inf, R_oe=0.0015106275329037821, R_er=0.15368453333333335, R_gr=0.021954933333333336,\n",
      "            R_gr=0.021954933333333336\n",
      "------ R C values of the current zone -------\n",
      "C_room=2716200.0, C_env=inf, C_genv=18416165.01274456,\n",
      "            R_rc=inf, R_oe=0.001511496754567236, R_er=0.15368453333333335, R_gr=0.021954933333333336,\n",
      "            R_gr=0.021954933333333336\n",
      "------ R C values of the current zone -------\n",
      "C_room=2716200.0, C_env=inf, C_genv=18416165.01274456,\n",
      "            R_rc=inf, R_oe=0.0015114814333365657, R_er=0.15368453333333335, R_gr=0.021954933333333336,\n",
      "            R_gr=0.021954933333333336\n",
      "------ R C values of the current zone -------\n",
      "C_room=2716200.0, C_env=inf, C_genv=18416165.01274456,\n",
      "            R_rc=inf, R_oe=0.0015106317224681067, R_er=0.15368453333333335, R_gr=0.021954933333333336,\n",
      "            R_gr=0.021954933333333336\n",
      "------ R C values of the current zone -------\n",
      "C_room=2716200.0, C_env=inf, C_genv=18416165.01274456,\n",
      "            R_rc=inf, R_oe=0.0015124167208421062, R_er=0.15368453333333335, R_gr=0.021954933333333336,\n",
      "            R_gr=0.021954933333333336\n",
      "------ R C values of the current zone -------\n",
      "C_room=2716200.0, C_env=inf, C_genv=18416165.01274456,\n",
      "            R_rc=inf, R_oe=0.0015123383288170114, R_er=0.15368453333333335, R_gr=0.021954933333333336,\n",
      "            R_gr=0.021954933333333336\n",
      "------ R C values of the current zone -------\n",
      "C_room=2716200.0, C_env=inf, C_genv=18416165.01274456,\n",
      "            R_rc=inf, R_oe=0.001510642861452169, R_er=0.15368453333333335, R_gr=0.021954933333333336,\n",
      "            R_gr=0.021954933333333336\n",
      "------ R C values of the current zone -------\n",
      "C_room=2716200.0, C_env=inf, C_genv=18416165.01274456,\n",
      "            R_rc=inf, R_oe=0.0015105873787475258, R_er=0.15368453333333335, R_gr=0.021954933333333336,\n",
      "            R_gr=0.021954933333333336\n",
      "------ R C values of the current zone -------\n",
      "C_room=2716200.0, C_env=inf, C_genv=18416165.01274456,\n",
      "            R_rc=inf, R_oe=0.0015105730447316145, R_er=0.15368453333333335, R_gr=0.021954933333333336,\n",
      "            R_gr=0.021954933333333336\n"
     ]
    }
   ],
   "source": [
    "clock = make_clock(1800)\n",
    "file_name = \"test2_buildings.h5\"\n",
    "\n",
    "if os.path.exists(file_name):\n",
    "    os.remove(file_name)\n",
    "\n",
    "file = h5py.File(file_name, \"w\")\n",
    "\n",
    "sample_size = 9\n",
    "building_no = 1\n",
    "max_steps = 500\n",
    "test2_saver = []\n",
    "\n",
    "for single_zone_building_sample in single_zone_building.sample(sample_size):\n",
    "    building_system = make_building_cdcm_system(single_zone_building_sample,\n",
    "                                                weather_sys,\n",
    "                                                clock)[0]\n",
    "    group = f\"building_{building_no}\"\n",
    "    file.create_group(group)\n",
    "    test2_saver.append(SimulationSaver(file[group],\n",
    "                                building_system,\n",
    "                                max_steps=max_steps\n",
    "    )\n",
    "                      )\n",
    "\n",
    "    for i in range(max_steps):\n",
    "        building_system.forward()\n",
    "        test2_saver[-1].save()\n",
    "        building_system.transition()\n",
    "    building_no += 1"
   ]
  },
  {
   "cell_type": "markdown",
   "id": "15a12886",
   "metadata": {},
   "source": [
    "We have completed the simulation and saving the results. Now let us plot the results. We fetch simulated results using the SimulationSaver objects stored in *test2_saver*. By giving the path of the variable of interest, the SimulationSaver object will give us the numpy array of the simulation results. We can plot and visualize these numpy arrays using matplotlib library. Results of 9 different randomly sampled buildings are shown."
   ]
  },
  {
   "cell_type": "code",
   "execution_count": null,
   "id": "f17daec3",
   "metadata": {
    "scrolled": true
   },
   "outputs": [],
   "source": [
    "# Code for plotting was taken from here\n",
    "# https://stackoverflow.com/questions/17210646/python-subplot-within-a-loop-first-panel-appears-in-wrong-position\n",
    "\n",
    "fig, axs = plt.subplots(3,3, figsize=(15,10), facecolor='w', edgecolor='k')\n",
    "fig.subplots_adjust(hspace = .5, wspace=.001)\n",
    "\n",
    "axs = axs.ravel()\n",
    "\n",
    "for building_no in np.arange(9):\n",
    "    group = f\"building_{building_no+1}\"\n",
    "    T_room_sensor = (\n",
    "        test2_saver[building_no].group[\"zone_cdcm_system/zone_rc_sys/T_room_sensor\"\n",
    "        ][:]\n",
    "    )\n",
    "    T_env = (\n",
    "        test2_saver[building_no].group[\"zone_cdcm_system/zone_rc_sys/T_env\"][:]\n",
    "    )\n",
    "    T_genv = (\n",
    "        test2_saver[building_no].group[\"zone_cdcm_system/zone_rc_sys/T_genv\"][:]\n",
    "    )\n",
    "    T_out = (\n",
    "        test2_saver[building_no].group[\"zone_cdcm_system/weather_sys/Tout\"][:]\n",
    "    )\n",
    "\n",
    "    time = np.arange(max_steps) * 0.5/24\n",
    "    axs[building_no].plot(time, T_room_sensor, label='T_room_sensor')\n",
    "    axs[building_no].plot(time, T_env, label='T_env')\n",
    "    axs[building_no].plot(time, T_genv, label='T_genv')\n",
    "    axs[building_no].plot(time, T_out, label='T_out')\n",
    "    axs[building_no].set_ylabel('Temperature (C)')\n",
    "    axs[building_no].set_xlabel('Time (days)')\n",
    "    axs[building_no].set_title(f'Results for single zone random building{building_no+1}')\n",
    "fig.tight_layout()\n",
    "plt.legend()\n",
    "plt.show()"
   ]
  },
  {
   "cell_type": "code",
   "execution_count": null,
   "id": "0c406afe",
   "metadata": {},
   "outputs": [],
   "source": [
    "T_room_sensor_table =np.zeros((sample_size, max_steps))\n",
    "time = np.arange(max_steps)* 0.5/24\n",
    "for building_no in np.arange(sample_size):\n",
    "    group = f\"building_{building_no+1}\"\n",
    "    T_room_sensor_table[building_no] = (\n",
    "        test2_saver[building_no].group[\"zone_cdcm_system/zone_rc_sys/T_room_sensor\"\n",
    "        ][:]\n",
    "    )\n",
    "T_room_sensor_percentiles = np.zeros((max_steps, 3))\n",
    "\n",
    "for time_step in np.arange(0, max_steps):\n",
    "    #print('2.5%, 50%, 95% quantiles of T_room_sensor at time_step =',time_step)\n",
    "    T_room_sensor_percentiles[time_step] = np.percentile(T_room_sensor_table[:,time_step], [2.5, 50, 97.5])\n",
    "\n",
    "mid = T_room_sensor_percentiles[:,1]\n",
    "low = T_room_sensor_percentiles[:,0]\n",
    "high = T_room_sensor_percentiles[:,2]\n",
    "plt.figure(figsize=(15,4))\n",
    "plt.plot(time, mid)\n",
    "# Plot the confidence interval\n",
    "plt.fill_between(time, (mid-low), (mid+high), color='blue', alpha=0.1)\n",
    "plt.xlabel('Time (days)')\n",
    "plt.ylabel('T_room_sensor')\n",
    "plt.title('T_room_sensor- 2.5%, 50%, 97.5% quantiles')\n",
    "plt.show()"
   ]
  },
  {
   "cell_type": "code",
   "execution_count": null,
   "id": "b15c4f94",
   "metadata": {},
   "outputs": [],
   "source": []
  }
 ],
 "metadata": {
  "kernelspec": {
   "display_name": "Python 3 (ipykernel)",
   "language": "python",
   "name": "python3"
  },
  "language_info": {
   "codemirror_mode": {
    "name": "ipython",
    "version": 3
   },
   "file_extension": ".py",
   "mimetype": "text/x-python",
   "name": "python",
   "nbconvert_exporter": "python",
   "pygments_lexer": "ipython3",
   "version": "3.8.12"
  }
 },
 "nbformat": 4,
 "nbformat_minor": 5
}
